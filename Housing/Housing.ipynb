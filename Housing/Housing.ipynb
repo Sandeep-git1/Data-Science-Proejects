{
  "nbformat": 4,
  "nbformat_minor": 0,
  "metadata": {
    "colab": {
      "provenance": []
    },
    "kernelspec": {
      "name": "python3",
      "display_name": "Python 3"
    },
    "language_info": {
      "name": "python"
    }
  },
  "cells": [
    {
      "cell_type": "markdown",
      "source": [
        "**1. Housing Price**"
      ],
      "metadata": {
        "id": "QjltK1Hjn5jD"
      }
    },
    {
      "cell_type": "code",
      "execution_count": null,
      "metadata": {
        "colab": {
          "base_uri": "https://localhost:8080/"
        },
        "id": "sWHuVSelno94",
        "outputId": "f0597fc2-2a94-4bbd-a04e-8c66d977efdc"
      },
      "outputs": [
        {
          "output_type": "stream",
          "name": "stdout",
          "text": [
            "house_0_list type: <class 'list'>\n",
            "house_0_list length: 3\n"
          ]
        },
        {
          "output_type": "execute_result",
          "data": {
            "text/plain": [
              "[115910.26, 128, 4]"
            ]
          },
          "metadata": {},
          "execution_count": 1
        }
      ],
      "source": [
        " house_0_list=[115910.26, 128, 4]\n",
        "print(\"house_0_list type:\", type(house_0_list))\n",
        "print(\"house_0_list length:\", len(house_0_list))\n",
        "house_0_list"
      ]
    },
    {
      "cell_type": "code",
      "source": [
        "house_0_price_m2 = house_0_list[0]/house_0_list[1]\n",
        "house_0_price_m2"
      ],
      "metadata": {
        "colab": {
          "base_uri": "https://localhost:8080/"
        },
        "id": "5xjnDM_eo6HB",
        "outputId": "fe104201-3716-4fac-b873-cffaeeab727e"
      },
      "execution_count": null,
      "outputs": [
        {
          "output_type": "execute_result",
          "data": {
            "text/plain": [
              "905.54890625"
            ]
          },
          "metadata": {},
          "execution_count": 2
        }
      ]
    },
    {
      "cell_type": "code",
      "source": [
        "house_0_list.append(house_0_price_m2)\n",
        "house_0_list"
      ],
      "metadata": {
        "colab": {
          "base_uri": "https://localhost:8080/"
        },
        "id": "U_P8c6VcrUVe",
        "outputId": "3fb7e216-927d-4ae7-d376-0f52c995d9c5"
      },
      "execution_count": null,
      "outputs": [
        {
          "output_type": "execute_result",
          "data": {
            "text/plain": [
              "[115910.26, 128, 4, 905.54890625]"
            ]
          },
          "metadata": {},
          "execution_count": 3
        }
      ]
    },
    {
      "cell_type": "code",
      "source": [
        "houses_nested_list = [ [115910.26, 128.0, 4.0], [48718.17, 210.0, 3.0], [28977.56, 58.0, 2.0], [36932.27, 79.0, 3.0], [83903.51, 111.0, 3.0], ]\n",
        "for col in houses_nested_list:\n",
        "  price_m2 = col[0] / col[1]\n",
        "  col.append(price_m2)\n",
        "houses_nested_list"
      ],
      "metadata": {
        "colab": {
          "base_uri": "https://localhost:8080/"
        },
        "id": "kmkIhIyerYQ2",
        "outputId": "ce5da1da-6161-4fda-81bc-8792c756cf14"
      },
      "execution_count": null,
      "outputs": [
        {
          "output_type": "execute_result",
          "data": {
            "text/plain": [
              "[[115910.26, 128.0, 4.0, 905.54890625],\n",
              " [48718.17, 210.0, 3.0, 231.9912857142857],\n",
              " [28977.56, 58.0, 2.0, 499.61310344827587],\n",
              " [36932.27, 79.0, 3.0, 467.4970886075949],\n",
              " [83903.51, 111.0, 3.0, 755.8874774774774]]"
            ]
          },
          "metadata": {},
          "execution_count": 4
        }
      ]
    },
    {
      "cell_type": "code",
      "source": [
        "house_0_dict = {\n",
        "    \"price_approx_usd\": 115910.26,\n",
        "    \"surface_covered_in_m2\": 128,\n",
        "    \"rooms\": 4,\n",
        "}\n",
        "print(\"house_0_dict type:\", type(house_0_dict))\n",
        "house_0_dict"
      ],
      "metadata": {
        "colab": {
          "base_uri": "https://localhost:8080/"
        },
        "id": "Y1-QQKWlxhok",
        "outputId": "afc1f95a-b959-4865-d96f-348cbcb05bdb"
      },
      "execution_count": null,
      "outputs": [
        {
          "output_type": "stream",
          "name": "stdout",
          "text": [
            "house_0_dict type: <class 'dict'>\n"
          ]
        },
        {
          "output_type": "execute_result",
          "data": {
            "text/plain": [
              "{'price_approx_usd': 115910.26, 'surface_covered_in_m2': 128, 'rooms': 4}"
            ]
          },
          "metadata": {},
          "execution_count": 5
        }
      ]
    },
    {
      "cell_type": "code",
      "source": [
        "house_0_dict[\"price_per_m2\"] = house_0_dict[\"price_approx_usd\"]/house_0_dict[\"surface_covered_in_m2\"]\n",
        "house_0_dict"
      ],
      "metadata": {
        "colab": {
          "base_uri": "https://localhost:8080/"
        },
        "id": "sH1rWMmyyo19",
        "outputId": "aa0750f5-76de-4104-e700-0189322db1b5"
      },
      "execution_count": null,
      "outputs": [
        {
          "output_type": "execute_result",
          "data": {
            "text/plain": [
              "{'price_approx_usd': 115910.26,\n",
              " 'surface_covered_in_m2': 128,\n",
              " 'rooms': 4,\n",
              " 'price_per_m2': 905.54890625}"
            ]
          },
          "metadata": {},
          "execution_count": 6
        }
      ]
    },
    {
      "cell_type": "markdown",
      "source": [
        "list of dictionaries"
      ],
      "metadata": {
        "id": "TGsXfPGkzLEf"
      }
    },
    {
      "cell_type": "code",
      "source": [
        "houses_rowwise = [\n",
        "    {\n",
        "        \"price_approx_usd\": 115910.26,\n",
        "        \"surface_covered_in_m2\": 128,\n",
        "        \"rooms\": 4,\n",
        "    },\n",
        "    {\n",
        "        \"price_approx_usd\": 48718.17,\n",
        "        \"surface_covered_in_m2\": 210,\n",
        "        \"rooms\": 3,\n",
        "    },\n",
        "    {\n",
        "        \"price_approx_usd\": 28977.56,\n",
        "        \"surface_covered_in_m2\": 58,\n",
        "        \"rooms\": 2,\n",
        "    },\n",
        "    {\n",
        "        \"price_approx_usd\": 36932.27,\n",
        "        \"surface_covered_in_m2\": 79,\n",
        "        \"rooms\": 3,\n",
        "    },\n",
        "    {\n",
        "        \"price_approx_usd\": 83903.51,\n",
        "        \"surface_covered_in_m2\": 111,\n",
        "        \"rooms\": 3,\n",
        "    },\n",
        "]\n",
        "\n",
        "print(\"houses_rowwise type:\", type(houses_rowwise))\n",
        "print(\"houses_rowwise length:\", len(houses_rowwise))\n",
        "houses_rowwise"
      ],
      "metadata": {
        "colab": {
          "base_uri": "https://localhost:8080/"
        },
        "id": "sFErB1Pgy2BQ",
        "outputId": "07ae488a-544d-4df6-8a54-e69ae14b9e23"
      },
      "execution_count": null,
      "outputs": [
        {
          "output_type": "stream",
          "name": "stdout",
          "text": [
            "houses_rowwise type: <class 'list'>\n",
            "houses_rowwise length: 5\n"
          ]
        },
        {
          "output_type": "execute_result",
          "data": {
            "text/plain": [
              "[{'price_approx_usd': 115910.26, 'surface_covered_in_m2': 128, 'rooms': 4},\n",
              " {'price_approx_usd': 48718.17, 'surface_covered_in_m2': 210, 'rooms': 3},\n",
              " {'price_approx_usd': 28977.56, 'surface_covered_in_m2': 58, 'rooms': 2},\n",
              " {'price_approx_usd': 36932.27, 'surface_covered_in_m2': 79, 'rooms': 3},\n",
              " {'price_approx_usd': 83903.51, 'surface_covered_in_m2': 111, 'rooms': 3}]"
            ]
          },
          "metadata": {},
          "execution_count": 7
        }
      ]
    },
    {
      "cell_type": "code",
      "source": [
        "for col in houses_rowwise:\n",
        "  col[\"price_in_m2\"]=col[\"price_approx_usd\"]/col[\"surface_covered_in_m2\"]\n",
        "houses_rowwise"
      ],
      "metadata": {
        "id": "aN98rU6c1iV3",
        "colab": {
          "base_uri": "https://localhost:8080/"
        },
        "outputId": "6bb4b9e3-4428-40d8-eb2c-ae7068639b6e"
      },
      "execution_count": null,
      "outputs": [
        {
          "output_type": "execute_result",
          "data": {
            "text/plain": [
              "[{'price_approx_usd': 115910.26,\n",
              "  'surface_covered_in_m2': 128,\n",
              "  'rooms': 4,\n",
              "  'price_in_m2': 905.54890625},\n",
              " {'price_approx_usd': 48718.17,\n",
              "  'surface_covered_in_m2': 210,\n",
              "  'rooms': 3,\n",
              "  'price_in_m2': 231.9912857142857},\n",
              " {'price_approx_usd': 28977.56,\n",
              "  'surface_covered_in_m2': 58,\n",
              "  'rooms': 2,\n",
              "  'price_in_m2': 499.61310344827587},\n",
              " {'price_approx_usd': 36932.27,\n",
              "  'surface_covered_in_m2': 79,\n",
              "  'rooms': 3,\n",
              "  'price_in_m2': 467.4970886075949},\n",
              " {'price_approx_usd': 83903.51,\n",
              "  'surface_covered_in_m2': 111,\n",
              "  'rooms': 3,\n",
              "  'price_in_m2': 755.8874774774774}]"
            ]
          },
          "metadata": {},
          "execution_count": 9
        }
      ]
    },
    {
      "cell_type": "markdown",
      "source": [
        "Finding mean column-wise:"
      ],
      "metadata": {
        "id": "sPH-2wBb0ZJT"
      }
    },
    {
      "cell_type": "code",
      "source": [
        "house_price=[]\n",
        "for cols in houses_rowwise:\n",
        "  house_price.append(cols['price_approx_usd'])\n",
        "print(house_price)\n",
        "house_price_mean=sum(house_price)/len(house_price)\n",
        "house_price_mean"
      ],
      "metadata": {
        "colab": {
          "base_uri": "https://localhost:8080/"
        },
        "id": "_K9bOHlMyg_R",
        "outputId": "eeb36ab9-1776-4b69-c611-233ebf9c4cbf"
      },
      "execution_count": null,
      "outputs": [
        {
          "output_type": "stream",
          "name": "stdout",
          "text": [
            "[115910.26, 48718.17, 28977.56, 36932.27, 83903.51]\n"
          ]
        },
        {
          "output_type": "execute_result",
          "data": {
            "text/plain": [
              "62888.35399999999"
            ]
          },
          "metadata": {},
          "execution_count": 18
        }
      ]
    },
    {
      "cell_type": "markdown",
      "source": [
        "**Dictionary of lists**"
      ],
      "metadata": {
        "id": "wF6P9CAt2MuS"
      }
    },
    {
      "cell_type": "code",
      "source": [
        "houses_columnwise = {\n",
        "    \"price_approx_usd\": [115910.26, 48718.17, 28977.56, 36932.27, 83903.51],\n",
        "    \"surface_covered_in_m2\": [128.0, 210.0, 58.0, 79.0, 111.0],\n",
        "    \"rooms\": [4.0, 3.0, 2.0, 3.0, 3.0],\n",
        "}\n",
        "# Print `houses_columnwise` object type\n",
        "print(\"houses_columnwise type:\", type(houses_columnwise))\n",
        "\n",
        "# Get output of `houses_columnwise`\n",
        "houses_columnwise"
      ],
      "metadata": {
        "colab": {
          "base_uri": "https://localhost:8080/"
        },
        "id": "PndKSH5V0e38",
        "outputId": "f8109e56-f1c3-4908-81ec-b856dbd4d3c2"
      },
      "execution_count": null,
      "outputs": [
        {
          "output_type": "stream",
          "name": "stdout",
          "text": [
            "houses_columnwise type: <class 'dict'>\n"
          ]
        },
        {
          "output_type": "execute_result",
          "data": {
            "text/plain": [
              "{'price_approx_usd': [115910.26, 48718.17, 28977.56, 36932.27, 83903.51],\n",
              " 'surface_covered_in_m2': [128.0, 210.0, 58.0, 79.0, 111.0],\n",
              " 'rooms': [4.0, 3.0, 2.0, 3.0, 3.0]}"
            ]
          },
          "metadata": {},
          "execution_count": 17
        }
      ]
    },
    {
      "cell_type": "code",
      "source": [
        "mean=sum(houses_columnwise[\"price_approx_usd\"])/len(houses_columnwise[\"price_approx_usd\"])\n",
        "mean"
      ],
      "metadata": {
        "colab": {
          "base_uri": "https://localhost:8080/"
        },
        "id": "rbv3plVn2RD7",
        "outputId": "2ea07c89-a8ab-4139-c582-49384355c691"
      },
      "execution_count": null,
      "outputs": [
        {
          "output_type": "execute_result",
          "data": {
            "text/plain": [
              "62888.35399999999"
            ]
          },
          "metadata": {},
          "execution_count": 21
        }
      ]
    },
    {
      "cell_type": "code",
      "source": [],
      "metadata": {
        "id": "WEIjqFnJ2urb"
      },
      "execution_count": null,
      "outputs": []
    }
  ]
}